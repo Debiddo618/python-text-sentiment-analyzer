{
 "cells": [
  {
   "cell_type": "markdown",
   "id": "cdfce5a7-9da1-45cc-a12c-edcc473a0ae0",
   "metadata": {},
   "source": [
    "# Loading the book"
   ]
  },
  {
   "cell_type": "code",
   "execution_count": 1,
   "id": "78eca5ce-bd6a-4c96-a25d-cc1a8f9b9fda",
   "metadata": {},
   "outputs": [],
   "source": [
    "with open(\"miracle_in_the_andes-checkpoint.txt\",\"r\") as file:\n",
    "    book = file.read()"
   ]
  },
  {
   "cell_type": "markdown",
   "id": "5199b034-5b2b-4922-bd19-ca9eff4f277b",
   "metadata": {},
   "source": [
    "# Most used words (non-articles)"
   ]
  },
  {
   "cell_type": "code",
   "execution_count": 2,
   "id": "569d6a91-d8a1-44ac-bc8e-644170b94650",
   "metadata": {},
   "outputs": [
    {
     "data": {
      "text/plain": [
       "['chapter', 'before', 'it', 'was', 'friday']"
      ]
     },
     "execution_count": 2,
     "metadata": {},
     "output_type": "execute_result"
    }
   ],
   "source": [
    "import re\n",
    "pattern = re.compile(\"[a-zA-Z]+\")\n",
    "finding = re.findall(pattern, book.lower())\n",
    "finding[:5]"
   ]
  },
  {
   "cell_type": "code",
   "execution_count": 3,
   "id": "e991950e-db65-4cbe-950a-68dae8026fe9",
   "metadata": {},
   "outputs": [],
   "source": [
    "d={}\n",
    "for word in finding:\n",
    "    if word in d.keys():\n",
    "        d[word] = d[word] + 1\n",
    "    else:\n",
    "        d[word] = 1"
   ]
  },
  {
   "cell_type": "code",
   "execution_count": 4,
   "id": "a2ad29ae-2336-4e89-99a0-d58e805145b8",
   "metadata": {},
   "outputs": [
    {
     "data": {
      "text/plain": [
       "[(5346, 'the'), (2795, 'and'), (2729, 'i'), (2400, 'to'), (2060, 'of')]"
      ]
     },
     "execution_count": 4,
     "metadata": {},
     "output_type": "execute_result"
    }
   ],
   "source": [
    "d_list = [(value, key) for (key,value) in d.items()]\n",
    "d_list = sorted(d_list, reverse=True)\n",
    "d_list[:5]"
   ]
  },
  {
   "cell_type": "code",
   "execution_count": 5,
   "id": "a6cb5e96-aa2a-4f60-9ee1-84552237359d",
   "metadata": {},
   "outputs": [],
   "source": [
    "from platform import python_version"
   ]
  },
  {
   "cell_type": "code",
   "execution_count": 6,
   "id": "d4188e8d-8d72-4643-9e34-d5630df6a974",
   "metadata": {},
   "outputs": [
    {
     "data": {
      "text/plain": [
       "'3.11.5'"
      ]
     },
     "execution_count": 6,
     "metadata": {},
     "output_type": "execute_result"
    }
   ],
   "source": [
    "python_version()"
   ]
  },
  {
   "cell_type": "code",
   "execution_count": 11,
   "id": "8c82785e-4b88-45bc-897f-d03c21ec94a1",
   "metadata": {},
   "outputs": [
    {
     "name": "stderr",
     "output_type": "stream",
     "text": [
      "[nltk_data] Downloading package stopwords to /Users/david/nltk_data...\n",
      "[nltk_data]   Unzipping corpora/stopwords.zip.\n"
     ]
    },
    {
     "data": {
      "text/plain": [
       "True"
      ]
     },
     "execution_count": 11,
     "metadata": {},
     "output_type": "execute_result"
    }
   ],
   "source": [
    "import nltk\n",
    "nltk.download(\"stopwords\")"
   ]
  },
  {
   "cell_type": "code",
   "execution_count": 13,
   "id": "82d009a1-8bc5-4069-a0d2-4b5907e96433",
   "metadata": {},
   "outputs": [],
   "source": [
    "from nltk.corpus import stopwords\n"
   ]
  },
  {
   "cell_type": "code",
   "execution_count": 14,
   "id": "fb1f227d-3c8b-4256-a1eb-c0cff5c9c012",
   "metadata": {},
   "outputs": [],
   "source": [
    "english_stopwords = stopwords.words(\"english\")"
   ]
  },
  {
   "cell_type": "code",
   "execution_count": 17,
   "id": "9d2ed4b8-7613-405c-a805-da158cb9a3f0",
   "metadata": {},
   "outputs": [
    {
     "data": {
      "text/plain": [
       "['i', 'me', 'my', 'myself', 'we']"
      ]
     },
     "execution_count": 17,
     "metadata": {},
     "output_type": "execute_result"
    }
   ],
   "source": [
    "english_stopwords[:5]"
   ]
  },
  {
   "cell_type": "code",
   "execution_count": 21,
   "id": "f9e3edb5-7ae3-4a15-b894-5702ab789467",
   "metadata": {},
   "outputs": [],
   "source": [
    "filtered_words=[]\n",
    "for count, word in d_list:\n",
    "    if word not in english_stopwords:\n",
    "        filtered_words.append((count, word))"
   ]
  },
  {
   "cell_type": "code",
   "execution_count": 22,
   "id": "7677465e-d084-4582-86e1-6e851eab9436",
   "metadata": {},
   "outputs": [
    {
     "data": {
      "text/plain": [
       "[(575, 'would'), (519, 'us'), (292, 'said'), (284, 'roberto'), (252, 'could')]"
      ]
     },
     "execution_count": 22,
     "metadata": {},
     "output_type": "execute_result"
    }
   ],
   "source": [
    "filtered_words[:5]"
   ]
  },
  {
   "cell_type": "markdown",
   "id": "f77a3cd1-b32d-4214-9a48-2d062a2e5b32",
   "metadata": {},
   "source": [
    "# Sentiment Analysis: What is the most positive and the most negative chapter?"
   ]
  },
  {
   "cell_type": "code",
   "execution_count": 25,
   "id": "4393e33f-cc62-4e23-a57d-2607e75be3f5",
   "metadata": {},
   "outputs": [
    {
     "name": "stderr",
     "output_type": "stream",
     "text": [
      "[nltk_data] Downloading package vader_lexicon to\n",
      "[nltk_data]     /Users/david/nltk_data...\n"
     ]
    },
    {
     "data": {
      "text/plain": [
       "True"
      ]
     },
     "execution_count": 25,
     "metadata": {},
     "output_type": "execute_result"
    }
   ],
   "source": [
    "from nltk.sentiment import SentimentIntensityAnalyzer\n",
    "nltk.download(\"vader_lexicon\")"
   ]
  },
  {
   "cell_type": "code",
   "execution_count": 26,
   "id": "72c22b28-b8b0-4d1a-adf0-ecbf28d4ffda",
   "metadata": {},
   "outputs": [],
   "source": [
    "analyzer = SentimentIntensityAnalyzer()"
   ]
  },
  {
   "cell_type": "code",
   "execution_count": 33,
   "id": "db8617a4-75c9-4f04-9f56-bf46947a173d",
   "metadata": {},
   "outputs": [],
   "source": [
    " score = analyzer.polarity_scores(\"Hey, look at how beautiful the trees are. I love them\")"
   ]
  },
  {
   "cell_type": "code",
   "execution_count": 35,
   "id": "2b045120-3db0-40a0-9fc5-f6e1b2a42eb5",
   "metadata": {},
   "outputs": [
    {
     "name": "stdout",
     "output_type": "stream",
     "text": [
      "It is a positive text\n"
     ]
    }
   ],
   "source": [
    "if score[\"pos\"] > score[\"neg\"]:\n",
    "    print(\"It is a positive text\")\n",
    "else:\n",
    "    print(\"It is a negative text\")"
   ]
  },
  {
   "cell_type": "code",
   "execution_count": 36,
   "id": "6afd8839-11d1-4cbc-ab13-654089eb7f55",
   "metadata": {},
   "outputs": [
    {
     "data": {
      "text/plain": [
       "{'neg': 0.116, 'neu': 0.76, 'pos': 0.125, 'compound': 1.0}"
      ]
     },
     "execution_count": 36,
     "metadata": {},
     "output_type": "execute_result"
    }
   ],
   "source": [
    "analyzer.polarity_scores(book)"
   ]
  },
  {
   "cell_type": "markdown",
   "id": "e2db558c-8e9a-4f1b-9d7f-1cefd0dc9b48",
   "metadata": {},
   "source": [
    "# Chapter sentiment analysis"
   ]
  },
  {
   "cell_type": "code",
   "execution_count": 42,
   "id": "55430fcf-98e0-4e37-a81d-80767155a963",
   "metadata": {},
   "outputs": [],
   "source": [
    "import re\n",
    "pattern = re.compile(\"Chapter [0-9]+\")\n",
    "chapters = re.split(pattern, book)\n",
    "chapters = chapters[1:]"
   ]
  },
  {
   "cell_type": "code",
   "execution_count": 43,
   "id": "057b042a-cdd6-4603-8813-0db0ecb266c6",
   "metadata": {},
   "outputs": [
    {
     "name": "stdout",
     "output_type": "stream",
     "text": [
      "It is a positive text\n",
      "It is a positive text\n",
      "It is a negative text\n",
      "It is a negative text\n",
      "It is a positive text\n",
      "It is a negative text\n",
      "It is a negative text\n",
      "It is a negative text\n",
      "It is a negative text\n",
      "It is a positive text\n"
     ]
    }
   ],
   "source": [
    "for chapter in chapters:\n",
    "    score = analyzer.polarity_scores(chapter)\n",
    "    if score[\"pos\"] > score[\"neg\"]:\n",
    "        print(\"It is a positive text\")\n",
    "    else:\n",
    "        print(\"It is a negative text\")"
   ]
  },
  {
   "cell_type": "code",
   "execution_count": null,
   "id": "57d4dc24-8c43-4918-b33e-376caf3f4584",
   "metadata": {},
   "outputs": [],
   "source": []
  }
 ],
 "metadata": {
  "kernelspec": {
   "display_name": "Python 3 (ipykernel)",
   "language": "python",
   "name": "python3"
  },
  "language_info": {
   "codemirror_mode": {
    "name": "ipython",
    "version": 3
   },
   "file_extension": ".py",
   "mimetype": "text/x-python",
   "name": "python",
   "nbconvert_exporter": "python",
   "pygments_lexer": "ipython3",
   "version": "3.11.5"
  }
 },
 "nbformat": 4,
 "nbformat_minor": 5
}
