


with open("miracle_in_the_andes-checkpoint.txt","r") as file:
    book = file.read()





import re
pattern = re.compile("[a-zA-Z]+")
finding = re.findall(pattern, book.lower())
finding[:5]


d={}
for word in finding:
    if word in d.keys():
        d[word] = d[word] + 1
    else:
        d[word] = 1


d_list = [(value, key) for (key,value) in d.items()]
d_list = sorted(d_list, reverse=True)
d_list[:5]


from platform import python_version


python_version()


import nltk
nltk.download("stopwords")


from nltk.corpus import stopwords



english_stopwords = stopwords.words("english")


english_stopwords[:5]


filtered_words=[]
for count, word in d_list:
    if word not in english_stopwords:
        filtered_words.append((count, word))


filtered_words[:5]





from nltk.sentiment import SentimentIntensityAnalyzer
nltk.download("vader_lexicon")


analyzer = SentimentIntensityAnalyzer()


 score = analyzer.polarity_scores("Hey, look at how beautiful the trees are. I love them")


if score["pos"] > score["neg"]:
    print("It is a positive text")
else:
    print("It is a negative text")


analyzer.polarity_scores(book)





import re
pattern = re.compile("Chapter [0-9]+")
chapters = re.split(pattern, book)
chapters = chapters[1:]


for chapter in chapters:
    score = analyzer.polarity_scores(chapter)
    if score["pos"] > score["neg"]:
        print("It is a positive text")
    else:
        print("It is a negative text")



